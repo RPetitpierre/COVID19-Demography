{
 "cells": [
  {
   "cell_type": "markdown",
   "metadata": {},
   "source": [
    "# Libraries"
   ]
  },
  {
   "cell_type": "code",
   "execution_count": 1,
   "metadata": {},
   "outputs": [],
   "source": [
    "import sample_households\n",
    "import numpy as np\n",
    "import csv"
   ]
  },
  {
   "cell_type": "markdown",
   "metadata": {},
   "source": [
    "# Functions"
   ]
  },
  {
   "cell_type": "code",
   "execution_count": 2,
   "metadata": {},
   "outputs": [],
   "source": [
    "def sample_households(n: int, initial_n: int, household_probs_param: list, locations: np.array, age_distribution_param: list, \n",
    "                      mother_age_distribution: np.array, community_id: int, scale_location_var: float = 0.1):\n",
    "    '''\n",
    "    Sampling households, according to demographics\n",
    "    \n",
    "    Inputs:\n",
    "        n: Size of the population to generate\n",
    "        initial_n: Size of the previously generated population\n",
    "        household_probs_param: [single household, couple without children, single parent +1/2/3 children, \n",
    "            couple +1/2/3 children, family without a nucleus, nucleus with other people, \n",
    "            households with two or more nuclei (a and b)]\n",
    "        locations: np.array in format (m, 2) where the axis 1 represents (latitude, longitude)\n",
    "        age_distribution_param: list or np.array of the ages distribution\n",
    "        mother_age_distribution: mother age distribution, see => get_mother_birth_age_distribution(country) \n",
    "        community_id: index of the community\n",
    "        scale_location_var: variation allowed on the location latitude and longitude, corresponding to the \n",
    "            scale of the logistic regression\n",
    "            \n",
    "    Outputs:\n",
    "        households: table, for each individual, listing the index of the other members of the household\n",
    "        age: ages of the individuals\n",
    "        location: location of the individuals (same for all the members of a household)\n",
    "        community: community of the individuals\n",
    "    '''\n",
    "    \n",
    "    def normalize(vector):\n",
    "        norm_vec = np.asarray(vector)\n",
    "        norm_vec = norm_vec/norm_vec.sum()\n",
    "        return norm_vec\n",
    "    \n",
    "    max_household_size = 6\n",
    "    \n",
    "    households = []\n",
    "    \n",
    "    age = np.zeros(n, dtype=np.int)    \n",
    "    n_ages = len(age_distribution_param)\n",
    "    \n",
    "    community = np.zeros(n, dtype=np.uint8)\n",
    "    community[:] = community_id    \n",
    "    \n",
    "    location = np.zeros((n, 2))\n",
    "\n",
    "    household_probs = normalize(household_probs_param)\n",
    "    age_distribution = normalize(age_distribution_param)\n",
    "    \n",
    "    # Keeping track of the number of agents\n",
    "    num_generated = 0\n",
    "    \n",
    "    # Age of the mother at first birth, as obtained from fertility data\n",
    "    mother_birth_age_distribution=get_mother_birth_age_distribution(\"Italy\")    \n",
    "    renormalized_mother = mother_birth_age_distribution/mother_birth_age_distribution.sum()\n",
    "    \n",
    "    renormalized_adult = age_distribution[18:]\n",
    "    renormalized_adult = renormalized_adult/renormalized_adult.sum()\n",
    "    # Age = 30 considered as the time when children leave the family home\n",
    "    # Note: older children in Italy often live with their parents longer than elsewhere\n",
    "    renormalized_child = age_distribution[:30]\n",
    "    renormalized_child = renormalized_child/renormalized_child.sum()\n",
    "    \n",
    "    renormalized_adult_older = age_distribution[30:]\n",
    "    renormalized_adult_older /= renormalized_adult_older.sum()\n",
    "    # Age = 60 considered as retirement threshold (as a first approximation; it could potentially be larger)\n",
    "    renormalized_grandparent = age_distribution[60:]\n",
    "    renormalized_grandparent = renormalized_grandparent/renormalized_grandparent.sum()\n",
    "    \n",
    "    while num_generated < n:\n",
    "        if n - num_generated < (max_household_size+1):\n",
    "            i = 0\n",
    "        else:\n",
    "            i = np.random.choice(household_probs.shape[0], p=household_probs)\n",
    "            loc = locations[int(np.random.uniform(0, len(locations)-1))]\n",
    "            lat = np.random.logistic(loc[0], scale_location_var)\n",
    "            lon = np.random.logistic(loc[1], scale_location_var)\n",
    "        # Single person household\n",
    "        if i == 0:\n",
    "            # Sample from left-truncated age distribution (adult aged >= 30)\n",
    "            age[num_generated]=np.random.randint(30,101)\n",
    "            generated_this_step = 1\n",
    "        # Couple with one of the two being 3 years older\n",
    "        elif i == 1:  \n",
    "            # Sample from left-truncated age distribution (adult aged >= 30)\n",
    "            age_adult = np.random.randint(30,101)\n",
    "            age[num_generated] = age_adult\n",
    "            # For heterosexual couples, the man is three years older than the woman on average\n",
    "            age[num_generated+1] = min(n_ages-1,age_adult+3)\n",
    "            generated_this_step = 2\n",
    "        # Single parent + 1 child\n",
    "        elif i == 2:            \n",
    "            # Child\n",
    "            child_age = np.random.choice(30, p=renormalized_child)\n",
    "            age[num_generated] = child_age\n",
    "            # Parent\n",
    "            mother_age_at_birth = (np.random.choice(7, p=renormalized_mother) + 3)*5+np.random.randint(5)\n",
    "            mother_current_age = min(n_ages-1,mother_age_at_birth + child_age)\n",
    "            age[num_generated + 1] = mother_current_age\n",
    "            generated_this_step = 2\n",
    "        # Single parent + 2 children\n",
    "        elif i == 3:\n",
    "            # Children\n",
    "            for j in range(2):                \n",
    "                child_age = np.random.choice(30, p=renormalized_child)\n",
    "                age[num_generated+j] = child_age\n",
    "            # Parent\n",
    "            mother_age_at_birth = (np.random.choice(7, p=renormalized_mother) + 3)*5+np.random.randint(5)\n",
    "            mother_current_age = min(n_ages-1,mother_age_at_birth + max(age[num_generated:(num_generated+2)]))\n",
    "            age[num_generated + 2] = mother_current_age\n",
    "            generated_this_step = 3\n",
    "        # Single parent + 3 children\n",
    "        elif i == 4:\n",
    "            # Children\n",
    "            for j in range(3):                \n",
    "                child_age = np.random.choice(30, p=renormalized_child)\n",
    "                age[num_generated+j] = child_age\n",
    "            # Parent\n",
    "            mother_age_at_birth = (np.random.choice(7, p=renormalized_mother) + 3)*5+np.random.randint(5)\n",
    "            mother_current_age = min(n_ages-1,mother_age_at_birth + max(age[num_generated:(num_generated+3)]))\n",
    "            age[num_generated + 3] = mother_current_age\n",
    "            generated_this_step = 4\n",
    "            \n",
    "        # Couple with one of the two being 3 years older + 1 child\n",
    "        elif i == 5: \n",
    "            # Child\n",
    "            child_age = np.random.choice(30, p=renormalized_child)\n",
    "            age[num_generated] = child_age\n",
    "            # Parents\n",
    "            mother_age_at_birth = (np.random.choice(7, p=renormalized_mother) + 3)*5+np.random.randint(5)\n",
    "            mother_current_age = min(n_ages-1,mother_age_at_birth + child_age)\n",
    "            # Populate age for parents\n",
    "            age[num_generated + 1] = mother_current_age\n",
    "            age[num_generated + 2] = min(n_ages-1,mother_current_age+3)\n",
    "            generated_this_step = 3\n",
    "        \n",
    "        # Couple with one of the two being 3 years older + 2 children\n",
    "        elif i == 6:\n",
    "            # Children\n",
    "            for j in range(2):                \n",
    "                child_age = np.random.choice(30, p=renormalized_child)\n",
    "                age[num_generated+j] = child_age\n",
    "            # Parents\n",
    "            mother_age_at_birth = (np.random.choice(7, p=renormalized_mother) + 3)*5+np.random.randint(5)\n",
    "            mother_current_age = min(n_ages-1,mother_age_at_birth + max(age[num_generated:(num_generated+2)]))\n",
    "            # Populate age for parents\n",
    "            age[num_generated + 2] = mother_current_age\n",
    "            age[num_generated + 3] = min(n_ages-1,mother_current_age+3)\n",
    "            generated_this_step = 4            \n",
    "        \n",
    "        # Couple with one of the two being 3 years older + 3 children\n",
    "        elif i == 7:\n",
    "            # Children\n",
    "            for j in range(3):                \n",
    "                child_age = np.random.choice(30, p=renormalized_child)\n",
    "                age[num_generated+j] = child_age\n",
    "            # Parents\n",
    "            mother_age_at_birth = (np.random.choice(7, p=renormalized_mother) + 3)*5+np.random.randint(5)\n",
    "            mother_current_age = min(n_ages-1,mother_age_at_birth + max(age[num_generated:(num_generated+3)]))\n",
    "            # Populate age for parents\n",
    "            age[num_generated + 3] = mother_current_age\n",
    "            age[num_generated + 4] = min(n_ages-1,mother_current_age+3)\n",
    "            generated_this_step = 5\n",
    "        \n",
    "        # Family without nucleus (2 adults >= 30)\n",
    "        elif i == 8:\n",
    "            age[num_generated] = np.random.randint(30,101)\n",
    "            age[num_generated+1] = np.random.randint(30,101)\n",
    "            generated_this_step = 2         \n",
    "                \n",
    "        # Nucleus with other persons (couple with one of the two being three years older + 2 children + 1 adult >= 60)\n",
    "        elif i == 9:\n",
    "            # Children\n",
    "            for j in range(2):                \n",
    "                child_age = np.random.choice(30, p=renormalized_child)\n",
    "                age[num_generated+j] = child_age\n",
    "            # Parents\n",
    "            mother_age_at_birth = (np.random.choice(7, p=renormalized_mother) + 3)*5+np.random.randint(5)\n",
    "            mother_current_age = min(n_ages-1,mother_age_at_birth + max(age[num_generated:(num_generated+2)]))\n",
    "            # Populate age for parents\n",
    "            age[num_generated + 2] = mother_current_age\n",
    "            age[num_generated + 3] = min(n_ages-1,mother_current_age+3)\n",
    "            # Populate age for adult >= 60\n",
    "            age[num_generated + 4] = np.random.choice(n_ages-60, p=renormalized_grandparent) + 60\n",
    "            generated_this_step = 5\n",
    "            \n",
    "        # Households with 2 or more nuclei\n",
    "        # Assumption: couple with one of the two being three years older + 2 children <= 30 + 2 grand-parents\n",
    "        \n",
    "        elif i == 10:\n",
    "            # Children\n",
    "            for j in range(2):                \n",
    "                child_age = np.random.choice(30, p=renormalized_child)\n",
    "                age[num_generated+j] = child_age\n",
    "            # Parents\n",
    "            mother_age_at_birth = (np.random.choice(7, p=renormalized_mother) + 3)*5+np.random.randint(5)\n",
    "            mother_current_age = min(n_ages-1,mother_age_at_birth + max(age[num_generated:(num_generated+2)]))\n",
    "            # Populate age for parents\n",
    "            age[num_generated + 2] = mother_current_age\n",
    "            age[num_generated + 3] = min(n_ages-1,mother_current_age+3)\n",
    "            # Grand-parents\n",
    "            grandmother_age_at_birth = (np.random.choice(7, p=renormalized_mother) + 3)*5+np.random.randint(5)\n",
    "            grandmother_current_age = min(n_ages-1,grandmother_age_at_birth + mother_current_age)\n",
    "            # Populate age for grand-parents\n",
    "            age[num_generated + 4] = grandmother_current_age\n",
    "            age[num_generated + 5] = min(n_ages-1,grandmother_current_age+3)   \n",
    "            generated_this_step = 6\n",
    "            \n",
    "        location[num_generated:num_generated+generated_this_step] = (lat, lon)\n",
    "            \n",
    "        # Update list of household contacts accordingly \n",
    "        for i in range(num_generated, num_generated+generated_this_step):\n",
    "            household = []\n",
    "            for j in range(num_generated, num_generated+generated_this_step):\n",
    "                if j != i:\n",
    "                    household.append(j + initial_n)\n",
    "            households.append(household)\n",
    "        num_generated += generated_this_step\n",
    "        \n",
    "    return households, age, location, community"
   ]
  },
  {
   "cell_type": "code",
   "execution_count": 3,
   "metadata": {},
   "outputs": [],
   "source": [
    "def get_age_distribution(country):\n",
    "    age_distribution=[]\n",
    "    with open('World_Age_2019.csv') as csv_file:\n",
    "        csv_reader = csv.reader(csv_file, delimiter=',')\n",
    "        for row in csv_reader:\n",
    "            if row[0]==country:\n",
    "                for i in range(101):\n",
    "                    age_distribution.append(float(row[i+1]))\n",
    "                break\n",
    "    return np.array(age_distribution)\n",
    "\n",
    "def get_mother_birth_age_distribution(country):\n",
    "    mother_birth_age_distribution=[]\n",
    "    with open('AgeSpecificFertility.csv',encoding='latin-1') as csv_file:\n",
    "        csv_reader = csv.reader(csv_file, delimiter=',')\n",
    "        for row in csv_reader:\n",
    "            if row[0]==country:\n",
    "                #15-19\t20-24\t25-29\t30-34\t35-39\t40-44\t45-49\n",
    "                for i in range(7):\n",
    "                    mother_birth_age_distribution.append(float(row[i+1]))\n",
    "                break\n",
    "    return np.array(mother_birth_age_distribution)"
   ]
  },
  {
   "cell_type": "markdown",
   "metadata": {},
   "source": [
    "# Test"
   ]
  },
  {
   "cell_type": "code",
   "execution_count": 4,
   "metadata": {},
   "outputs": [],
   "source": [
    "N = [1000, 2000, 3000, 4000, 5000]"
   ]
  },
  {
   "cell_type": "code",
   "execution_count": 5,
   "metadata": {},
   "outputs": [],
   "source": [
    "household_probs = [[0.309179, 0.196000, 0.0694283, 0.0273065, 0.00450268, 0.152655, 0.132429, 0.0200969, 0.049821, 0.033, 0.017], \n",
    "                   [0.309179, 0.196000, 0.0694283, 0.0273065, 0.00450268, 0.152655, 0.132429, 0.0200969, 0.049821, 0.033, 0.017], \n",
    "                   [0.309179, 0.196000, 0.0694283, 0.0273065, 0.00450268, 0.152655, 0.132429, 0.0200969, 0.049821, 0.033, 0.017], \n",
    "                   [0.309179, 0.196000, 0.0694283, 0.0273065, 0.00450268, 0.152655, 0.132429, 0.0200969, 0.049821, 0.033, 0.017], \n",
    "                   [0.309179, 0.196000, 0.0694283, 0.0273065, 0.00450268, 0.152655, 0.132429, 0.0200969, 0.049821, 0.033, 0.017]]"
   ]
  },
  {
   "cell_type": "code",
   "execution_count": 6,
   "metadata": {},
   "outputs": [],
   "source": [
    "locations = [np.asarray([np.random.uniform(0., 10., 1000), np.random.uniform(40., 45., 1000)]).T,\n",
    "            np.asarray([np.random.uniform(0., 10., 1000), np.random.uniform(40., 45., 1000)]).T,\n",
    "            np.asarray([np.random.uniform(0., 10., 1000), np.random.uniform(40., 45., 1000)]).T,\n",
    "            np.asarray([np.random.uniform(0., 10., 1000), np.random.uniform(40., 45., 1000)]).T,\n",
    "            np.asarray([np.random.uniform(0., 10., 1000), np.random.uniform(40., 45., 1000)]).T]"
   ]
  },
  {
   "cell_type": "code",
   "execution_count": 7,
   "metadata": {},
   "outputs": [],
   "source": [
    "# Age distribution in CH\n",
    "age_distribution = [get_age_distribution(\"Switzerland\"), get_age_distribution(\"Switzerland\"),\n",
    "                   get_age_distribution(\"Switzerland\"), get_age_distribution(\"Switzerland\"),\n",
    "                   get_age_distribution(\"Switzerland\")]"
   ]
  },
  {
   "cell_type": "code",
   "execution_count": 8,
   "metadata": {},
   "outputs": [],
   "source": [
    "mother_age_distribution = [get_mother_birth_age_distribution(\"Switzerland\"),\n",
    "                          get_mother_birth_age_distribution(\"Switzerland\"),\n",
    "                          get_mother_birth_age_distribution(\"Switzerland\"),\n",
    "                          get_mother_birth_age_distribution(\"Switzerland\"),\n",
    "                          get_mother_birth_age_distribution(\"Switzerland\")]"
   ]
  },
  {
   "cell_type": "code",
   "execution_count": 9,
   "metadata": {},
   "outputs": [],
   "source": [
    "households = []\n",
    "age, location, community = [], [], []\n",
    "initial_n = 0\n",
    "\n",
    "for i in range(len(household_probs)):\n",
    "    households_, age_, location_, community_ = sample_households(N[i], initial_n, household_probs[i], locations[i], \n",
    "                                                                 age_distribution[i], mother_age_distribution[i], i)\n",
    "    initial_n += N[i]\n",
    "    households += households_\n",
    "    age.append(age_)\n",
    "    location.append(location_)\n",
    "    community.append(community_)\n",
    "    \n",
    "age = np.concatenate(age)\n",
    "location = np.concatenate(location)\n",
    "community = np.concatenate(community)"
   ]
  },
  {
   "cell_type": "markdown",
   "metadata": {},
   "source": [
    "# Commuting"
   ]
  },
  {
   "cell_type": "code",
   "execution_count": 47,
   "metadata": {},
   "outputs": [],
   "source": [
    "import pandas as pd\n",
    "import seaborn as sns\n",
    "import matplotlib.pyplot as plt"
   ]
  },
  {
   "cell_type": "code",
   "execution_count": 164,
   "metadata": {},
   "outputs": [],
   "source": [
    "df = pd.read_excel('tabelle.xls', header = 2)[:21].rename(columns = {'Unnamed: 0': 'km_range', \n",
    "                'Part des déplacements [%]': 'share'})[['km_range', 'share']]\n",
    "df['km'] = df.index + 1\n",
    "df.drop(columns = 'km_range', inplace=True)\n",
    "commuting_dist = df['share'].values/np.sum(df['share'])"
   ]
  },
  {
   "cell_type": "code",
   "execution_count": 44,
   "metadata": {},
   "outputs": [
    {
     "data": {
      "text/plain": [
       "<matplotlib.axes._subplots.AxesSubplot at 0x1a1a92fa90>"
      ]
     },
     "execution_count": 44,
     "metadata": {},
     "output_type": "execute_result"
    },
    {
     "data": {
      "image/png": "[encoded data removed]",
      "text/plain": [
       "<Figure size 864x576 with 1 Axes>"
      ]
     },
     "metadata": {},
     "output_type": "display_data"
    }
   ],
   "source": [
    "sns.set(rc={'figure.figsize':(12, 8)})\n",
    "df.plot(y = 'share', x = 'km')"
   ]
  },
  {
   "cell_type": "code",
   "execution_count": null,
   "metadata": {},
   "outputs": [],
   "source": []
  },
  {
   "cell_type": "code",
   "execution_count": null,
   "metadata": {},
   "outputs": [],
   "source": []
  },
  {
   "cell_type": "code",
   "execution_count": null,
   "metadata": {},
   "outputs": [],
   "source": []
  },
  {
   "cell_type": "code",
   "execution_count": null,
   "metadata": {},
   "outputs": [],
   "source": []
  }
 ],
 "metadata": {
  "kernelspec": {
   "display_name": "Python 3",
   "language": "python",
   "name": "python3"
  },
  "language_info": {
   "codemirror_mode": {
    "name": "ipython",
    "version": 3
   },
   "file_extension": ".py",
   "mimetype": "text/x-python",
   "name": "python",
   "nbconvert_exporter": "python",
   "pygments_lexer": "ipython3",
   "version": "3.7.4"
  }
 },
 "nbformat": 4,
 "nbformat_minor": 2
}
